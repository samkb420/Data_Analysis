{
 "cells": [
  {
   "cell_type": "markdown",
   "metadata": {},
   "source": [
    "## DATA ANAYLSIS\n",
    "\n",
    "### Who is a Data anaylst\n",
    "    Is a person who uses data to answer Questions.\n",
    "    \n",
    "### Data Anaylsis Process\n",
    "\n",
    "- Question \n",
    "    ie. How to stock a Store\n",
    "    ie.\n",
    "\n",
    "\n",
    "- Data Wrangle\n",
    "    1. Data Gathering\n",
    "    2. Data Cleaning\n",
    "    \n",
    "\n",
    "- Explore (E.D.A)\n",
    "    1. Build Intution \n",
    "    2. Find patterns\n",
    "\n",
    "- Draw Conclusion (-Make Predictions)\n",
    "    ie. Which product Costomers like\n",
    "    \n",
    "\n",
    "- Communicate [-Blog Post,Paper,E-mail]\n",
    "    1. Data visualization\n",
    "\n"
   ]
  },
  {
   "cell_type": "markdown",
   "metadata": {},
   "source": [
    "##  Data Gathering:\n",
    "1. Downloading Files\n",
    "2. Get from An Api\n",
    "3. Scraping Data from a Web Page\n",
    "4. Combine Data from diffrent Formats.\n",
    "\n",
    "\n",
    "#### 1. csv - comma ,seperated , Values\n",
    "#### 2. Exel- xlsx \n",
    "#### 3. txt\n",
    "#### 4. json"
   ]
  },
  {
   "cell_type": "markdown",
   "metadata": {},
   "source": [
    "#### Simple Example\n"
   ]
  },
  {
   "cell_type": "code",
   "execution_count": 1,
   "metadata": {},
   "outputs": [
    {
     "data": {
      "text/plain": [
       "[['sam', 20, 'computer science', '2nd Year', 'male'],\n",
       " ['dave', 20, 'Bsc Maths', '1st Year', 'male'],\n",
       " ['jane', 20, 'IT', '3nd Year', 'female']]"
      ]
     },
     "execution_count": 1,
     "metadata": {},
     "output_type": "execute_result"
    }
   ],
   "source": [
    "# lets create a simple Data\n",
    "\n",
    "users = [\n",
    "    ['sam',20,'computer science','2nd Year','male'],\n",
    "     ['dave',20,'Bsc Maths','1st Year','male'],\n",
    "     ['jane',20,'IT','3nd Year','female'],\n",
    "]\n",
    "users"
   ]
  },
  {
   "cell_type": "code",
   "execution_count": 2,
   "metadata": {
    "collapsed": true
   },
   "outputs": [],
   "source": [
    "# lets save the file now into csv.\n",
    "# we will need to import some libs\n",
    "\n",
    "import pickle\n",
    "import pandas as pd\n"
   ]
  },
  {
   "cell_type": "code",
   "execution_count": 3,
   "metadata": {
    "collapsed": true
   },
   "outputs": [],
   "source": [
    "# Now lets do some pickeling\n",
    "# lets create a directory for our dataset\n",
    "\n",
    "!mkdir Datasets"
   ]
  },
  {
   "cell_type": "code",
   "execution_count": 10,
   "metadata": {},
   "outputs": [],
   "source": [
    "with open('Datasets/users.csv','wb') as file:\n",
    "    pickle.dump(users,file)\n",
    "    "
   ]
  },
  {
   "cell_type": "code",
   "execution_count": 14,
   "metadata": {},
   "outputs": [
    {
     "data": {
      "text/html": [
       "<div>\n",
       "<style>\n",
       "    .dataframe thead tr:only-child th {\n",
       "        text-align: right;\n",
       "    }\n",
       "\n",
       "    .dataframe thead th {\n",
       "        text-align: left;\n",
       "    }\n",
       "\n",
       "    .dataframe tbody tr th {\n",
       "        vertical-align: top;\n",
       "    }\n",
       "</style>\n",
       "<table border=\"1\" class=\"dataframe\">\n",
       "  <thead>\n",
       "    <tr style=\"text-align: right;\">\n",
       "      <th></th>\n",
       "      <th>1</th>\n",
       "    </tr>\n",
       "  </thead>\n",
       "  <tbody>\n",
       "    <tr>\n",
       "      <th>count</th>\n",
       "      <td>3.0</td>\n",
       "    </tr>\n",
       "    <tr>\n",
       "      <th>mean</th>\n",
       "      <td>20.0</td>\n",
       "    </tr>\n",
       "    <tr>\n",
       "      <th>std</th>\n",
       "      <td>0.0</td>\n",
       "    </tr>\n",
       "    <tr>\n",
       "      <th>min</th>\n",
       "      <td>20.0</td>\n",
       "    </tr>\n",
       "    <tr>\n",
       "      <th>25%</th>\n",
       "      <td>20.0</td>\n",
       "    </tr>\n",
       "    <tr>\n",
       "      <th>50%</th>\n",
       "      <td>20.0</td>\n",
       "    </tr>\n",
       "    <tr>\n",
       "      <th>75%</th>\n",
       "      <td>20.0</td>\n",
       "    </tr>\n",
       "    <tr>\n",
       "      <th>max</th>\n",
       "      <td>20.0</td>\n",
       "    </tr>\n",
       "  </tbody>\n",
       "</table>\n",
       "</div>"
      ],
      "text/plain": [
       "          1\n",
       "count   3.0\n",
       "mean   20.0\n",
       "std     0.0\n",
       "min    20.0\n",
       "25%    20.0\n",
       "50%    20.0\n",
       "75%    20.0\n",
       "max    20.0"
      ]
     },
     "execution_count": 14,
     "metadata": {},
     "output_type": "execute_result"
    }
   ],
   "source": [
    "# data = pd.read_csv('Datasets/users.csv',delimiter=',')\n",
    "# data\n",
    "\n",
    "data = pd.DataFrame(users)\n",
    "data.describe()"
   ]
  },
  {
   "cell_type": "code",
   "execution_count": 15,
   "metadata": {},
   "outputs": [
    {
     "name": "stdout",
     "output_type": "stream",
     "text": [
      "<class 'pandas.core.frame.DataFrame'>\n",
      "RangeIndex: 3 entries, 0 to 2\n",
      "Data columns (total 5 columns):\n",
      "0    3 non-null object\n",
      "1    3 non-null int64\n",
      "2    3 non-null object\n",
      "3    3 non-null object\n",
      "4    3 non-null object\n",
      "dtypes: int64(1), object(4)\n",
      "memory usage: 200.0+ bytes\n"
     ]
    }
   ],
   "source": [
    "data.info()"
   ]
  },
  {
   "cell_type": "code",
   "execution_count": 16,
   "metadata": {},
   "outputs": [
    {
     "data": {
      "text/html": [
       "<div>\n",
       "<style>\n",
       "    .dataframe thead tr:only-child th {\n",
       "        text-align: right;\n",
       "    }\n",
       "\n",
       "    .dataframe thead th {\n",
       "        text-align: left;\n",
       "    }\n",
       "\n",
       "    .dataframe tbody tr th {\n",
       "        vertical-align: top;\n",
       "    }\n",
       "</style>\n",
       "<table border=\"1\" class=\"dataframe\">\n",
       "  <thead>\n",
       "    <tr style=\"text-align: right;\">\n",
       "      <th></th>\n",
       "      <th>0</th>\n",
       "      <th>1</th>\n",
       "      <th>2</th>\n",
       "      <th>3</th>\n",
       "      <th>4</th>\n",
       "    </tr>\n",
       "  </thead>\n",
       "  <tbody>\n",
       "    <tr>\n",
       "      <th>0</th>\n",
       "      <td>sam</td>\n",
       "      <td>20</td>\n",
       "      <td>computer science</td>\n",
       "      <td>2nd Year</td>\n",
       "      <td>male</td>\n",
       "    </tr>\n",
       "    <tr>\n",
       "      <th>1</th>\n",
       "      <td>dave</td>\n",
       "      <td>20</td>\n",
       "      <td>Bsc Maths</td>\n",
       "      <td>1st Year</td>\n",
       "      <td>male</td>\n",
       "    </tr>\n",
       "    <tr>\n",
       "      <th>2</th>\n",
       "      <td>jane</td>\n",
       "      <td>20</td>\n",
       "      <td>IT</td>\n",
       "      <td>3nd Year</td>\n",
       "      <td>female</td>\n",
       "    </tr>\n",
       "  </tbody>\n",
       "</table>\n",
       "</div>"
      ],
      "text/plain": [
       "      0   1                 2         3       4\n",
       "0   sam  20  computer science  2nd Year    male\n",
       "1  dave  20         Bsc Maths  1st Year    male\n",
       "2  jane  20                IT  3nd Year  female"
      ]
     },
     "execution_count": 16,
     "metadata": {},
     "output_type": "execute_result"
    }
   ],
   "source": [
    "data.head()"
   ]
  },
  {
   "cell_type": "code",
   "execution_count": null,
   "metadata": {
    "collapsed": true
   },
   "outputs": [],
   "source": []
  }
 ],
 "metadata": {
  "kernelspec": {
   "display_name": "Python 3",
   "language": "python",
   "name": "python3"
  },
  "language_info": {
   "codemirror_mode": {
    "name": "ipython",
    "version": 3
   },
   "file_extension": ".py",
   "mimetype": "text/x-python",
   "name": "python",
   "nbconvert_exporter": "python",
   "pygments_lexer": "ipython3",
   "version": "3.6.3"
  }
 },
 "nbformat": 4,
 "nbformat_minor": 2
}
